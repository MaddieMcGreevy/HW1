{
  "nbformat": 4,
  "nbformat_minor": 0,
  "metadata": {
    "colab": {
      "provenance": [],
      "name": "Maddiehw01.ipynb",
      "include_colab_link": true
    },
    "kernelspec": {
      "name": "python3",
      "display_name": "Python 3"
    },
    "language_info": {
      "name": "python"
    }
  },
  "cells": [
    {
      "cell_type": "markdown",
      "metadata": {
        "id": "view-in-github",
        "colab_type": "text"
      },
      "source": [
        "<a href=\"https://colab.research.google.com/github/MaddieMcGreevy/HW1/blob/main/Maddiehw01.ipynb\" target=\"_parent\"><img src=\"https://colab.research.google.com/assets/colab-badge.svg\" alt=\"Open In Colab\"/></a>"
      ]
    },
    {
      "cell_type": "markdown",
      "source": [
        "# HW 01"
      ],
      "metadata": {
        "id": "JaguTAItuC48"
      }
    },
    {
      "cell_type": "markdown",
      "source": [
        "### Q1. Write a program to input your age and print whether you are more than or less than a billion seconds old."
      ],
      "metadata": {
        "id": "8N08oInsuN8g"
      }
    },
    {
      "cell_type": "code",
      "execution_count": 1,
      "metadata": {
        "id": "KlPvWPxRuCVz",
        "colab": {
          "base_uri": "https://localhost:8080/"
        },
        "outputId": "556544bf-4eef-49c0-8d17-e4c0992ecae3"
      },
      "outputs": [
        {
          "output_type": "stream",
          "name": "stdout",
          "text": [
            "Enter your age in years: 21\n",
            "You are less than a billion seconds old!\n"
          ]
        }
      ],
      "source": [
        "BILLION_SECONDS = 1_000_000_000\n",
        "SECONDS_IN_A_YEAR = 365.25 * 24 * 60 * 60  # Considering leap years\n",
        "\n",
        "age = float(input(\"Enter your age in years: \"))\n",
        "\n",
        "age_in_seconds = age * SECONDS_IN_A_YEAR\n",
        "\n",
        "if age_in_seconds > BILLION_SECONDS:\n",
        "    print(\"You are more than a billion seconds old!\")\n",
        "else:\n",
        "    print(\"You are less than a billion seconds old!\")\n",
        "\n"
      ]
    },
    {
      "cell_type": "markdown",
      "source": [
        "### Q2. Create a list with 10 names. Print each name with a Good morning greeting with the name using a conditional loop.\n",
        "\n",
        "For example\n",
        "\n",
        "`name = ['Ashley', 'Brianna', 'Chetan', 'David', 'Eoin', 'Francois', 'Gemma', 'Hameed', 'Ishaan', 'Joanna']`\n",
        "\n",
        "Outputs will be 'Good morning, Ashley', 'Good morning, Brianna', and so on."
      ],
      "metadata": {
        "id": "X3IPYLTgvnDh"
      }
    },
    {
      "cell_type": "code",
      "source": [
        "names = [\"Connor\", \"Abby\", \"Gianna\", \"Dillon\", \"Emma\", \"Aidan\", \"Sam\", \"Jane\", \"Olivia\", \"Alexis\"]\n",
        "\n",
        "i = 0\n",
        "\n",
        "while i < len(names):\n",
        "    print(f\"Good morning, {names[i]}!\")\n",
        "    i += 1\n",
        "\n"
      ],
      "metadata": {
        "id": "MFG2cvatvmr2",
        "colab": {
          "base_uri": "https://localhost:8080/"
        },
        "outputId": "81db9397-1cee-435e-bc8d-7cb6f23c6290"
      },
      "execution_count": 2,
      "outputs": [
        {
          "output_type": "stream",
          "name": "stdout",
          "text": [
            "Good morning, Connor!\n",
            "Good morning, Abby!\n",
            "Good morning, Gianna!\n",
            "Good morning, Dillon!\n",
            "Good morning, Emma!\n",
            "Good morning, Aidan!\n",
            "Good morning, Sam!\n",
            "Good morning, Jane!\n",
            "Good morning, Olivia!\n",
            "Good morning, Alexis!\n"
          ]
        }
      ]
    },
    {
      "cell_type": "markdown",
      "source": [
        "### Q3. Create a list of 15 numbers. Print only those numbers that are divisible by 2."
      ],
      "metadata": {
        "id": "niM878Jrx1bf"
      }
    },
    {
      "cell_type": "markdown",
      "source": [],
      "metadata": {
        "id": "70nS92qvD4Jw"
      }
    },
    {
      "cell_type": "code",
      "source": [
        "numbers = [1, 8, 15, 25, 29, 36, 41, 50, 57, 64, 71, 78, 85, 92, 99]\n",
        "\n",
        "print(\"Numbers divisible by 2:\")\n",
        "for num in numbers:\n",
        "    if num % 2 == 0:\n",
        "        print(num)\n",
        "\n"
      ],
      "metadata": {
        "id": "m7XjkMn8uUY2",
        "colab": {
          "base_uri": "https://localhost:8080/"
        },
        "outputId": "a084ca50-912e-40bb-fc85-7befb4a77bb4"
      },
      "execution_count": 3,
      "outputs": [
        {
          "output_type": "stream",
          "name": "stdout",
          "text": [
            "Numbers divisible by 2:\n",
            "8\n",
            "36\n",
            "50\n",
            "64\n",
            "78\n",
            "92\n"
          ]
        }
      ]
    },
    {
      "cell_type": "markdown",
      "source": [
        "### Q4. Print the squared numbers of a list containing at least 10 numbers with a mix of float, integer, and negative numbers. Use the longer method as well as list comprehension.\n",
        "\n",
        "You can either generate your own list of 10 numbers or find use a random number generator."
      ],
      "metadata": {
        "id": "u1kyA9ksy_JI"
      }
    },
    {
      "cell_type": "code",
      "source": [
        "nums = [0,-1.25,15.86,-25]\n",
        "method1_squares = []\n",
        "\n",
        "for i in nums:\n",
        "    method1_squares.append(i**2)\n",
        "\n",
        "print(method1_squares)\n",
        "\n",
        "numbers = [3, -7, 2.5, -1.2, 10, -4, 8.8, -6.3, 5, 0]\n",
        "\n",
        "squared_numbers = []\n",
        "for num in numbers:\n",
        "    squared_numbers.append(num ** 2)\n",
        "\n",
        "print(\"Squared numbers (longer method):\", squared_numbers)\n",
        "\n",
        "\n",
        "squared_numbers_lc = [num ** 2 for num in numbers]\n",
        "print(\"Squared numbers (list comprehension):\", squared_numbers_lc)\n"
      ],
      "metadata": {
        "colab": {
          "base_uri": "https://localhost:8080/"
        },
        "id": "UFHMdDgEuUbD",
        "outputId": "fb9cac59-1f65-4866-d30c-ec1261be7fde"
      },
      "execution_count": 6,
      "outputs": [
        {
          "output_type": "stream",
          "name": "stdout",
          "text": [
            "[0, 1.5625, 251.53959999999998, 625]\n",
            "Squared numbers (longer method): [9, 49, 6.25, 1.44, 100, 16, 77.44000000000001, 39.69, 25, 0]\n",
            "Squared numbers (list comprehension): [9, 49, 6.25, 1.44, 100, 16, 77.44000000000001, 39.69, 25, 0]\n"
          ]
        }
      ]
    },
    {
      "cell_type": "markdown",
      "source": [
        "### Q5. Write a program to print a year if it is a leap year."
      ],
      "metadata": {
        "id": "0ZBlFovqA7G9"
      }
    },
    {
      "cell_type": "markdown",
      "source": [],
      "metadata": {
        "id": "OK1ctUfqA6mP"
      }
    },
    {
      "cell_type": "code",
      "source": [
        "year = int(input())\n",
        "\n",
        "if year%4 == 0:\n",
        "    print(year, \"is a leap year\")\n",
        "else:\n",
        "    print(year, \"is not a leap year\")"
      ],
      "metadata": {
        "id": "QwfOIh36uUeM",
        "colab": {
          "base_uri": "https://localhost:8080/"
        },
        "outputId": "f8095e38-cd9d-4179-8498-7dca2405ca5b"
      },
      "execution_count": 7,
      "outputs": [
        {
          "output_type": "stream",
          "name": "stdout",
          "text": [
            "2025\n",
            "2025 is not a leap year\n"
          ]
        }
      ]
    },
    {
      "cell_type": "markdown",
      "source": [
        "### Q6. Use list comprensions to print all names in a list in upper case."
      ],
      "metadata": {
        "id": "_FRSvLlgArOJ"
      }
    },
    {
      "cell_type": "code",
      "source": [
        "names = [\"Connor\", \"Abby\", \"Gianna\", \"Dillon\", \"Emma\", \"Aidan\", \"Sam\", \"Jane\", \"Olivia\", \"Alexis\"]\n",
        "uppercase_names = [name.upper() for name in names]\n",
        "\n",
        "\n",
        "print(uppercase_names)"
      ],
      "metadata": {
        "id": "CwPIZcFQuUhD",
        "colab": {
          "base_uri": "https://localhost:8080/"
        },
        "outputId": "00c19c5a-2bba-4742-d13d-5ac7e217d230"
      },
      "execution_count": 8,
      "outputs": [
        {
          "output_type": "stream",
          "name": "stdout",
          "text": [
            "['CONNOR', 'ABBY', 'GIANNA', 'DILLON', 'EMMA', 'AIDAN', 'SAM', 'JANE', 'OLIVIA', 'ALEXIS']\n"
          ]
        }
      ]
    },
    {
      "cell_type": "markdown",
      "source": [
        "### Q7. Question on NUMPY arrays:\n",
        "\n",
        "a. Create a numpy array called `original` with 100 random numbers. What is the largest number, smallest number, max, min, median, and standard deviation of your array? Print them.\n",
        "\n",
        "HINT: use `np.random.uniform()`. Check online for the correct syntax. `np.random.rand(100)` will give you 100 random numbers of uniform distribution with mean 0 and standard deviation of 1, while we want a mix of larger numbers/integers.\n",
        "\n",
        "b. Now create an array called `orig_sqrt` which contains the square roots of the numbers in the original array.\n",
        "\n",
        "### Q8.  Converting 1D arrays into 2D arrays.\n",
        "\n",
        "a. Convert your original array of 100 random numbers into a 2-dimensional array called `mat_array` with 20 rows and 5 columns. Print this array.\n",
        "\n",
        "b. What is the mean of every column in `mat_array`?\n",
        "\n",
        "c. What is the sum of every row? Create a list of 20 elements that contains the sum of every row in `mat_array`.\n",
        "\n",
        "d. Create the transpose of `mat_array` and call it `transpose_array`. What are the dimensions of this array now? Again, find the mean of each column and the sum of each row.\n",
        "\n",
        "### Q9. Array slicing:\n",
        "\n",
        "a. create a new array which contains the 3rd-10th rows and all columns of `mat_array`. Print.\n",
        "\n",
        "b. Print a new array which contains the the last 5 rows and the last 2 columns of `mat_array`. What is the dimension of this array?\n",
        "\n",
        "c. Print a new array which contains the first 3 rows and last 10 columns of `transpose_array`."
      ],
      "metadata": {
        "id": "ulp3oxOZHt5r"
      }
    },
    {
      "cell_type": "code",
      "source": [
        "#9\n",
        "import numpy as np\n",
        "\n",
        "\n",
        "original = np.random.uniform(1, 1000, 100)\n",
        "mat_array = original.reshape(20, 5)\n",
        "\n",
        "\n",
        "sub_array_3_to_10 = mat_array[2:10, :]\n",
        "print(\"Sub-array (3rd to 10th rows, all columns):\\n\", sub_array_3_to_10)\n",
        "\n",
        "\n",
        "sub_array_last5_last2 = mat_array[-5:, -2:]\n",
        "print(\"\\nSub-array (last 5 rows, last 2 columns):\\n\", sub_array_last5_last2)\n",
        "\n",
        "\n",
        "print(\"\\nDimensions of sub-array (last 5 rows, last 2 columns):\", sub_array_last5_last2.shape)\n",
        "\n",
        "\n",
        "transpose_array = mat_array.T\n",
        "sub_array_first3_last10 = transpose_array[:3, -10:]\n",
        "print(\"\\nSub-array (first 3 rows, last 10 columns of transpose_array):\\n\", sub_array_first3_last10)\n",
        "\n"
      ],
      "metadata": {
        "id": "M6EBbfr7Iaas",
        "colab": {
          "base_uri": "https://localhost:8080/"
        },
        "outputId": "0f75c8de-72ba-4606-e317-2cdcf862e5c3"
      },
      "execution_count": 12,
      "outputs": [
        {
          "output_type": "stream",
          "name": "stdout",
          "text": [
            "Sub-array (3rd to 10th rows, all columns):\n",
            " [[109.37466603 780.85505372 171.02779443  63.05593157 766.93606824]\n",
            " [429.38553396 239.31739829 660.60123157 934.75950634 988.78111569]\n",
            " [727.64797632 897.74084266  69.24897548 392.06884639 267.05768034]\n",
            " [731.5310073  318.33550013 253.59920776 548.89703106 877.2842848 ]\n",
            " [761.48998725 291.59442505 885.30519325 561.4473415  461.14447393]\n",
            " [594.45502104 285.24807698 871.65824255 149.09284986  84.62069864]\n",
            " [662.21179441 170.23509624 784.35800368 576.60567079 636.69162304]\n",
            " [843.34549317 680.95652155 352.71521989 156.86856476 184.89518287]]\n",
            "\n",
            "Sub-array (last 5 rows, last 2 columns):\n",
            " [[279.35059859 155.29999475]\n",
            " [563.89853459 953.79216935]\n",
            " [ 42.18118421 717.35324168]\n",
            " [446.25085228 193.95911532]\n",
            " [952.39079855 628.09230926]]\n",
            "\n",
            "Dimensions of sub-array (last 5 rows, last 2 columns): (5, 2)\n",
            "\n",
            "Sub-array (first 3 rows, last 10 columns of transpose_array):\n",
            " [[103.32487047 273.35729231 668.40672308 542.10412814 885.82661549\n",
            "  107.27683282 581.92056994 895.6736907   51.28158604 289.3209988 ]\n",
            " [845.65758568 259.28585617 392.59198145 459.35024816 380.82861841\n",
            "  237.24021843 608.62854013 381.66636464 384.11768906 636.84737104]\n",
            " [502.68676323 955.24853293 259.37388141 686.03738908 179.74298128\n",
            "  200.05513336 360.11153679 854.35202488 786.06893175 267.68169306]]\n"
          ]
        }
      ]
    },
    {
      "cell_type": "code",
      "source": [
        "#7\n",
        "import numpy as np\n",
        "\n",
        "\n",
        "original = np.random.uniform(1, 1000, 100)\n",
        "\n",
        "largest = np.max(original)\n",
        "smallest = np.min(original)\n",
        "mean = np.mean(original)\n",
        "median = np.median(original)\n",
        "std_dev = np.std(original)\n",
        "\n",
        "\n",
        "print(f\"Largest Number: {largest}\")\n",
        "print(f\"Smallest Number: {smallest}\")\n",
        "print(f\"Mean: {mean}\")\n",
        "print(f\"Median: {median}\")\n",
        "print(f\"Standard Deviation: {std_dev}\")\n",
        "\n",
        "\n",
        "orig_sqrt = np.sqrt(original)\n",
        "\n",
        "\n",
        "print(\"Sample of Square Roots:\", orig_sqrt[:10])"
      ],
      "metadata": {
        "id": "lJWRxuplJ1R-",
        "colab": {
          "base_uri": "https://localhost:8080/"
        },
        "outputId": "df4e31a5-60c4-4ddc-db5d-580f18a46a6b"
      },
      "execution_count": 10,
      "outputs": [
        {
          "output_type": "stream",
          "name": "stdout",
          "text": [
            "Largest Number: 998.359001924217\n",
            "Smallest Number: 8.185872906941999\n",
            "Mean: 461.60073905854364\n",
            "Median: 459.31277816357243\n",
            "Standard Deviation: 295.09691128778854\n",
            "Sample of Square Roots: [ 3.51621853 23.0573755  23.37738879 17.47897558 26.54956017  6.97695817\n",
            " 26.41055722  5.85757106 24.59847697 21.24275203]\n"
          ]
        }
      ]
    },
    {
      "cell_type": "code",
      "source": [
        "#8\n",
        "import numpy as np\n",
        "\n",
        "original = np.random.uniform(1, 1000, 100)\n",
        "mat_array = original.reshape(20, 5)\n",
        "\n",
        "print(\"2D Array (mat_array):\")\n",
        "print(mat_array)\n",
        "\n",
        "\n",
        "column_means = np.mean(mat_array, axis=0)\n",
        "print(\"\\nMean of each column:\", column_means)\n",
        "\n",
        "row_sums = np.sum(mat_array, axis=1)\n",
        "print(\"\\nSum of each row:\", row_sums.tolist())\n",
        "\n",
        "\n",
        "transpose_array = mat_array.T\n",
        "\n",
        "print(\"\\nDimensions of transpose_array:\", transpose_array.shape)\n",
        "\n",
        "transpose_col_means = np.mean(transpose_array, axis=0)\n",
        "print(\"\\nMean of each column in transpose_array:\", transpose_col_means)\n",
        "\n",
        "\n",
        "transpose_row_sums = np.sum(transpose_array, axis=1)\n",
        "print(\"\\nSum of each row in transpose_array:\", transpose_row_sums)"
      ],
      "metadata": {
        "id": "FDYDgwc1Lyy1",
        "colab": {
          "base_uri": "https://localhost:8080/"
        },
        "outputId": "b802804d-ee79-449b-9420-909f8c89456c"
      },
      "execution_count": 11,
      "outputs": [
        {
          "output_type": "stream",
          "name": "stdout",
          "text": [
            "2D Array (mat_array):\n",
            "[[743.92974137 320.15503658 554.44368787 508.53916948 763.52682654]\n",
            " [356.25779009 282.94334542 232.73859769 346.22141644 754.24573668]\n",
            " [351.2212003  796.10565037 786.96751022 781.30060572 162.26158766]\n",
            " [728.69115498 110.10965613 923.15523557 225.07041555  57.99948648]\n",
            " [124.60263303 556.68174769 262.33342403 598.58646899 800.67086596]\n",
            " [160.62935445 459.82295703 329.23444095 599.69518414 336.11937274]\n",
            " [777.56127249 916.96977403 289.81071771 617.64950785 431.81123853]\n",
            " [436.17835982 434.26093003 143.63159401 648.05444366 560.44511611]\n",
            " [811.39928157 249.55159536 952.19194723 438.77538188 352.52189348]\n",
            " [113.05590995 597.50584473  72.97355192 360.61841922 187.81854473]\n",
            " [377.34199296 822.73792903 692.41302976 987.37222533 343.14254696]\n",
            " [918.74049863 977.57001555 821.55438467 621.68633479 452.02783523]\n",
            " [673.96154203 174.62371745 758.57301702 739.33002228 145.37884208]\n",
            " [446.85561447 485.89810681 744.69110249 166.27396582 224.85327466]\n",
            " [918.97945841 568.92718331 323.01726921 391.07134737 211.7537394 ]\n",
            " [988.8668602  974.51560488 628.60391152 637.04301513 952.02858608]\n",
            " [196.81127606 541.37485228 171.23191172  66.05424124 450.0374256 ]\n",
            " [507.47353165 352.01444785 911.61409029 758.01758519 431.8899332 ]\n",
            " [811.61349269 950.11016598 254.22379542 652.3802693  607.67579049]\n",
            " [251.35349102 227.68791519 716.04486765 717.35676648  47.31195315]]\n",
            "\n",
            "Mean of each column: [534.77622281 539.97832378 528.47240435 543.05483929 413.67602979]\n",
            "\n",
            "Sum of each row: [2890.594461838533, 1972.4068863210223, 2877.8565542588185, 2045.0259487109367, 2342.8751396960497, 1885.5013093095208, 3033.8025106072637, 2222.570443634557, 2804.440099536734, 1331.9722705535235, 3223.007724031862, 3791.5790688732177, 2491.8671408525925, 2068.5720642373108, 2413.74899769627, 4181.057977813609, 1425.5097068968535, 2961.009588174332, 3276.0035138931416, 1959.7549934708793]\n",
            "\n",
            "Dimensions of transpose_array: (5, 20)\n",
            "\n",
            "Mean of each column in transpose_array: [578.11889237 394.48137726 575.57131085 409.00518974 468.57502794\n",
            " 377.10026186 606.76050212 444.51408873 560.88801991 266.39445411\n",
            " 644.60154481 758.31581377 498.37342817 413.71441285 482.74979954\n",
            " 836.21159556 285.10194138 592.20191763 655.20070278 391.95099869]\n",
            "\n",
            "Sum of each row in transpose_array: [10695.52445617 10799.56647569 10569.44808694 10861.09678585\n",
            "  8273.52059575]\n"
          ]
        }
      ]
    },
    {
      "cell_type": "code",
      "source": [],
      "metadata": {
        "id": "vyV9N3jpLyqP"
      },
      "execution_count": null,
      "outputs": []
    },
    {
      "cell_type": "code",
      "source": [],
      "metadata": {
        "id": "at-4INjLLyei"
      },
      "execution_count": null,
      "outputs": []
    },
    {
      "cell_type": "markdown",
      "source": [
        "### Q10. Assume you are inviting 15 friends to your party. You guest list has the following dietary preference.\n",
        "\n",
        "`diet = ['vegetarian', 'pescetarian', 'vegetarian', 'omnivore', 'pescetarian', 'keto', 'keto', 'vegan', 'omnivore', 'omnivore', 'vegan', 'omnivore', 'keto, 'vegetarian', 'vegan']`\n",
        "\n",
        "Their ages are as follows:\n",
        "\n",
        "`age = [21, 20, 19, 25, 27, 18, 23, 25, 19, 22, 20, 20, 23, 21, 24]`\n",
        "\n",
        "Create a list called `menu` which will contain 'veg. fried rice with whiskey' for vegans and vegetarians aged 21 and above,  'veg. fried rice with mocktail' for vegans and vegetarians aged below 21. Follow the same logic and assign fish and white wine to pescetarians of legal age (and fish with mocktail to those below 21). Keto and omnivore guests above 21 will have 'steak and red wine'. Complete the series with the appropriate drink for underage guests."
      ],
      "metadata": {
        "id": "cIhCARNRLzKy"
      }
    },
    {
      "cell_type": "code",
      "source": [
        "# Write your answer here.\n",
        "import numpy as np\n",
        "diet = ['vegetarian', 'pescetarian', 'vegetarian', 'omnivore', 'pescetarian', 'keto', 'keto', 'vegan',\n",
        "        'omnivore', 'omnivore', 'vegan', 'omnivore', 'keto', 'vegetarian', 'vegan']\n",
        "\n",
        "age = [21, 20, 19, 25, 27, 18, 23, 25, 19, 22, 20, 20, 23, 21, 24]\n",
        "\n",
        "\n",
        "menu = [\n",
        "    'veg. fried rice with whiskey' if (d in ['vegetarian', 'vegan'] and a >= 21) else\n",
        "    'veg. fried rice with mocktail' if (d in ['vegetarian', 'vegan'] and a < 21) else\n",
        "    'fish and white wine' if (d == 'pescetarian' and a >= 21) else\n",
        "    'fish and mocktail' if (d == 'pescetarian' and a < 21) else\n",
        "    'steak and red wine' if (d in ['keto', 'omnivore'] and a >= 21) else\n",
        "    'steak and mocktail'  # For keto and omnivore under 21\n",
        "    for d, a in zip(diet, age)\n",
        "]\n",
        "\n",
        "\n",
        "print(menu)\n",
        "\n"
      ],
      "metadata": {
        "id": "P7Xuiz6JOR5_",
        "colab": {
          "base_uri": "https://localhost:8080/"
        },
        "outputId": "a93304f1-997b-4a7a-ec7d-0e363071d26a"
      },
      "execution_count": 9,
      "outputs": [
        {
          "output_type": "stream",
          "name": "stdout",
          "text": [
            "['veg. fried rice with whiskey', 'fish and mocktail', 'veg. fried rice with mocktail', 'steak and red wine', 'fish and white wine', 'steak and mocktail', 'steak and red wine', 'veg. fried rice with whiskey', 'steak and mocktail', 'steak and red wine', 'veg. fried rice with mocktail', 'steak and mocktail', 'steak and red wine', 'veg. fried rice with whiskey', 'veg. fried rice with whiskey']\n"
          ]
        }
      ]
    }
  ]
}